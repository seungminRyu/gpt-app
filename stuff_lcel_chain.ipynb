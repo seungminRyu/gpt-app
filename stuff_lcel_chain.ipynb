{
 "cells": [
  {
   "cell_type": "code",
   "execution_count": null,
   "metadata": {},
   "outputs": [
    {
     "name": "stderr",
     "output_type": "stream",
     "text": [
      "Created a chunk of size 95, which is longer than the specified 50\n",
      "Created a chunk of size 127, which is longer than the specified 50\n",
      "Created a chunk of size 81, which is longer than the specified 50\n",
      "Created a chunk of size 54, which is longer than the specified 50\n",
      "Created a chunk of size 131, which is longer than the specified 50\n",
      "Created a chunk of size 102, which is longer than the specified 50\n",
      "Created a chunk of size 113, which is longer than the specified 50\n",
      "Created a chunk of size 92, which is longer than the specified 50\n",
      "Created a chunk of size 94, which is longer than the specified 50\n",
      "Created a chunk of size 171, which is longer than the specified 50\n",
      "Created a chunk of size 98, which is longer than the specified 50\n",
      "Created a chunk of size 259, which is longer than the specified 50\n",
      "Created a chunk of size 73, which is longer than the specified 50\n",
      "/var/folders/m7/5b9m5cbj3ls245_qrm3sq5l00000gp/T/ipykernel_91114/1959358905.py:24: LangChainDeprecationWarning: The class `OpenAIEmbeddings` was deprecated in LangChain 0.0.9 and will be removed in 1.0. An updated version of the class exists in the :class:`~langchain-openai package and should be used instead. To use it run `pip install -U :class:`~langchain-openai` and import as `from :class:`~langchain_openai import OpenAIEmbeddings``.\n",
      "  embeddings = OpenAIEmbeddings()\n",
      "/var/folders/m7/5b9m5cbj3ls245_qrm3sq5l00000gp/T/ipykernel_91114/1959358905.py:36: LangChainDeprecationWarning: The method `Chain.run` was deprecated in langchain 0.1.0 and will be removed in 1.0. Use :meth:`~invoke` instead.\n",
      "  chain.run(\"what is the purpose of this sheet\")\n"
     ]
    },
    {
     "data": {
      "text/plain": [
       "\"This document seems to be outlining the detailed plan for a product called 뮤커톤 (Mukaton), which is a program designed to address certain needs related to creating music performances. The purpose of this sheet is to provide information on the program's structure, objectives, and how it aims to fulfill the needs of its participants over a 12-week period.\""
      ]
     },
     "execution_count": 1,
     "metadata": {},
     "output_type": "execute_result"
    }
   ],
   "source": [
    "from dotenv import load_dotenv\n",
    "from langchain_openai import ChatOpenAI\n",
    "from langchain.text_splitter import CharacterTextSplitter\n",
    "from langchain.document_loaders import TextLoader\n",
    "from langchain.embeddings import OpenAIEmbeddings, CacheBackedEmbeddings\n",
    "from langchain.vectorstores import FAISS\n",
    "from langchain.storage import LocalFileStore\n",
    "from langchain.prompts import ChatPromptTemplate\n",
    "load_dotenv()\n",
    "\n",
    "llm = ChatOpenAI()\n",
    "\n",
    "cache_dir = LocalFileStore(\"./.cache/\")\n",
    "\n",
    "splitter = CharacterTextSplitter.from_tiktoken_encoder(\n",
    "    separator=\"\\n\",\n",
    "    chunk_size=50,\n",
    "    chunk_overlap=20,\n",
    ")\n",
    "loader = TextLoader(\"./files/detail_page_plan.txt\")\n",
    "\n",
    "docs = loader.load_and_split(text_splitter=splitter)\n",
    "\n",
    "embeddings = OpenAIEmbeddings()\n",
    "\n",
    "cached_embeddings = CacheBackedEmbeddings.from_bytes_store(embeddings, cache_dir)\n",
    "\n",
    "vectorstore = FAISS.from_documents(docs, cached_embeddings)\n",
    "\n",
    "retriever = vectorstore.as_retriever()\n",
    "\n",
    "prompt = ChatPromptTemplate.from_messages([\n",
    "    (\"system\")\n",
    "])\n",
    "\n",
    "chain = retriever | \n",
    "\n",
    "chain.run(\"what is the purpose of this sheet\")"
   ]
  }
 ],
 "metadata": {
  "kernelspec": {
   "display_name": "env",
   "language": "python",
   "name": "python3"
  },
  "language_info": {
   "codemirror_mode": {
    "name": "ipython",
    "version": 3
   },
   "file_extension": ".py",
   "mimetype": "text/x-python",
   "name": "python",
   "nbconvert_exporter": "python",
   "pygments_lexer": "ipython3",
   "version": "3.12.8"
  }
 },
 "nbformat": 4,
 "nbformat_minor": 2
}
